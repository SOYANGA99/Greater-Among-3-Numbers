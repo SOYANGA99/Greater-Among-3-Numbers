{
 "cells": [
  {
   "cell_type": "code",
   "execution_count": 16,
   "id": "7a60c80b",
   "metadata": {},
   "outputs": [
    {
     "name": "stdout",
     "output_type": "stream",
     "text": [
      "Enter 1st no:-98\n",
      "Enter 2nd no:-76\n",
      "Enter 3rd no:-54\n",
      "A is greater 98\n"
     ]
    }
   ],
   "source": [
    "a= int(input(\"Enter 1st no:-\"))\n",
    "b= int(input(\"Enter 2nd no:-\"))\n",
    "c= int(input(\"Enter 3rd no:-\"))\n",
    "if (a>b) and (a>c):\n",
    "     print(\"A is greater\",a)\n",
    "elif (b>a) and (b>c):\n",
    "    print(\"B is greater\",b)\n",
    "else:\n",
    "    print(\"C is greater\",c)\n",
    "    "
   ]
  },
  {
   "cell_type": "code",
   "execution_count": 19,
   "id": "96de3982",
   "metadata": {},
   "outputs": [
    {
     "name": "stdout",
     "output_type": "stream",
     "text": [
      "Enter 1st no:-5.9876\n",
      "Enter 2nd no:-64.8676\n",
      "enter 3rd no:-1.876\n",
      "Greater Number Is:- 64.8676\n"
     ]
    }
   ],
   "source": [
    "a=float(input(\"Enter 1st no:-\"))\n",
    "b=float(input(\"Enter 2nd no:-\"))\n",
    "c=float(input(\"enter 3rd no:-\"))\n",
    "if (a>b) and (a>c):\n",
    "    Greater=a\n",
    "elif (b>a) and (b>c):\n",
    "    Greater=b\n",
    "else:\n",
    "    Greater=c\n",
    "print(\"Greater Number Is:-\", Greater)"
   ]
  },
  {
   "cell_type": "code",
   "execution_count": null,
   "id": "eddba2f4",
   "metadata": {},
   "outputs": [],
   "source": []
  }
 ],
 "metadata": {
  "kernelspec": {
   "display_name": "Python 3 (ipykernel)",
   "language": "python",
   "name": "python3"
  },
  "language_info": {
   "codemirror_mode": {
    "name": "ipython",
    "version": 3
   },
   "file_extension": ".py",
   "mimetype": "text/x-python",
   "name": "python",
   "nbconvert_exporter": "python",
   "pygments_lexer": "ipython3",
   "version": "3.9.7"
  }
 },
 "nbformat": 4,
 "nbformat_minor": 5
}
